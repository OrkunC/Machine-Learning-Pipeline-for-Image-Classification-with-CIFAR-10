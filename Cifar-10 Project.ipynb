{
  "cells": [
    {
      "cell_type": "code",
      "execution_count": 11,
      "metadata": {
        "id": "PIfQ4orzzNWZ"
      },
      "outputs": [],
      "source": [
        "#required libraries\n",
        "import time\n",
        "import numpy as np\n",
        "import matplotlib.pyplot as plt\n",
        "from tqdm import tqdm\n",
        "import warnings\n",
        "from sklearn.exceptions import ConvergenceWarning\n",
        "\n",
        "import torch\n",
        "import torchvision\n",
        "import torchvision.transforms as transforms\n",
        "import torch.nn as nn\n",
        "import torch.optim as optim\n",
        "from sklearn.neighbors import KNeighborsClassifier\n",
        "from sklearn.metrics import accuracy_score\n",
        "from sklearn.model_selection import cross_val_score, train_test_split\n",
        "from sklearn.preprocessing import StandardScaler\n",
        "from sklearn.linear_model import LogisticRegression\n"
      ]
    },
    {
      "cell_type": "code",
      "execution_count": 12,
      "metadata": {
        "colab": {
          "base_uri": "https://localhost:8080/"
        },
        "id": "oZGmJyvOxoi5",
        "outputId": "bed06518-dcfe-4c75-a34f-8511b68fe9d9"
      },
      "outputs": [
        {
          "name": "stdout",
          "output_type": "stream",
          "text": [
            "Files already downloaded and verified\n",
            "Files already downloaded and verified\n",
            "Train datas shape: (50000, 32, 32, 3)\n",
            "Test datas shape: (10000, 32, 32, 3)\n",
            "************ORIGINAL VALUES*************\n",
            "Some original pixel values:\n",
            " [[ 59  62  63]\n",
            " [ 43  46  45]\n",
            " [ 50  48  43]\n",
            " [ 68  54  42]\n",
            " [ 98  73  52]\n",
            " [119  91  63]\n",
            " [139 107  75]\n",
            " [145 110  80]\n",
            " [149 117  89]\n",
            " [149 120  93]]\n",
            "(10000, 32, 32, 3)\n",
            "************Normalized VALUES*************\n",
            "Label: Frog\n",
            "Normalized image pixel values: tensor([[[-0.5373, -0.6627, -0.6078,  ...,  0.2392,  0.1922,  0.1608],\n",
            "         [-0.8745, -1.0000, -0.8588,  ..., -0.0353, -0.0667, -0.0431],\n",
            "         [-0.8039, -0.8745, -0.6157,  ..., -0.0745, -0.0588, -0.1451],\n",
            "         ...,\n",
            "         [ 0.6314,  0.5765,  0.5529,  ...,  0.2549, -0.5608, -0.5843],\n",
            "         [ 0.4118,  0.3569,  0.4588,  ...,  0.4431, -0.2392, -0.3490],\n",
            "         [ 0.3882,  0.3176,  0.4039,  ...,  0.6941,  0.1843, -0.0353]],\n",
            "\n",
            "        [[-0.5137, -0.6392, -0.6235,  ...,  0.0353, -0.0196, -0.0275],\n",
            "         [-0.8431, -1.0000, -0.9373,  ..., -0.3098, -0.3490, -0.3176],\n",
            "         [-0.8118, -0.9451, -0.7882,  ..., -0.3412, -0.3412, -0.4275],\n",
            "         ...,\n",
            "         [ 0.3333,  0.2000,  0.2627,  ...,  0.0431, -0.7569, -0.7333],\n",
            "         [ 0.0902, -0.0353,  0.1294,  ...,  0.1608, -0.5137, -0.5843],\n",
            "         [ 0.1294,  0.0118,  0.1137,  ...,  0.4431, -0.0745, -0.2784]],\n",
            "\n",
            "        [[-0.5059, -0.6471, -0.6627,  ..., -0.1529, -0.2000, -0.1922],\n",
            "         [-0.8431, -1.0000, -1.0000,  ..., -0.5686, -0.6078, -0.5529],\n",
            "         [-0.8353, -1.0000, -0.9373,  ..., -0.6078, -0.6078, -0.6706],\n",
            "         ...,\n",
            "         [-0.2471, -0.7333, -0.7961,  ..., -0.4510, -0.9451, -0.8431],\n",
            "         [-0.2471, -0.6706, -0.7647,  ..., -0.2627, -0.7333, -0.7333],\n",
            "         [-0.0902, -0.2627, -0.3176,  ...,  0.0980, -0.3412, -0.4353]]])\n"
          ]
        }
      ],
      "source": [
        "\n",
        "# Data transformation\n",
        "transform = transforms.Compose([\n",
        "    transforms.ToTensor(),           # Convert images to tensors\n",
        "    transforms.Normalize((0.5, 0.5, 0.5), (0.5, 0.5, 0.5))  # Normalize pixel values between -1.0 to 1.0\n",
        "])\n",
        "\n",
        "# Download CIFAR-10 dataset\n",
        "train_cifar_dataset = torchvision.datasets.CIFAR10(root='./data', train=True, download=True, transform=transform)#transform speciliazed data download\n",
        "test_cifar_dataset = torchvision.datasets.CIFAR10(root='./data', train=False, download=True, transform=transform)\n",
        "\n",
        "# Create data loaders for training and testing\n",
        "\n",
        "train_cifar_loader=torch.utils.data.DataLoader(train_cifar_dataset, batch_size=128,shuffle=True,num_workers=2)\n",
        "\n",
        "\n",
        "test_cifar_loader=torch.utils.data.DataLoader(test_cifar_dataset, batch_size=128,shuffle=True,num_workers=2)\n",
        "\n",
        "classes_cifar=('Plane','Car','Bird','Cat','Deer','Dog','Frog','Horse','Ship','Truck')\n",
        "\n",
        "print(\"Train datas shape:\",train_cifar_dataset.data.shape)#shape of train the data\n",
        "print(\"Test datas shape:\",test_cifar_dataset.data.shape)#shape of test the data\n",
        "print(\"************ORIGINAL VALUES*************\")\n",
        "print(\"Some original pixel values:\\n\",train_cifar_dataset.data[0,0,0:10])\n",
        "print (test_cifar_dataset.data.shape)\n",
        "print(\"************Normalized VALUES*************\")\n",
        "image, label = train_cifar_dataset[0]\n",
        "print(\"Label:\", classes_cifar[label])\n",
        "print(\"Normalized image pixel values:\", image)"
      ]
    },
    {
      "cell_type": "code",
      "execution_count": 13,
      "metadata": {
        "colab": {
          "base_uri": "https://localhost:8080/",
          "height": 502
        },
        "id": "ylpoY02p3Bze",
        "outputId": "367ce953-d111-4646-bc8d-e01f3fa7c670"
      },
      "outputs": [
        {
          "data": {
            "image/png": "[encoded data removed]",
            "text/plain": [
              "<Figure size 640x480 with 1 Axes>"
            ]
          },
          "metadata": {},
          "output_type": "display_data"
        },
        {
          "name": "stdout",
          "output_type": "stream",
          "text": [
            "Horse\n"
          ]
        }
      ],
      "source": [
        "#showing some pictures from data\n",
        "\n",
        "def imshow(img):\n",
        "    img=(img*0.5)+0.5\n",
        "    npimg = img.numpy()\n",
        "    plt.imshow(np.transpose(npimg,(1,2,0))) #transform the positions\n",
        "    plt.show()\n",
        "\n",
        "\n",
        "dataiter = iter(train_cifar_loader)#for creating a iterator at the start of the train loader\n",
        "images,labels=next(dataiter)#for capturing first batch into images and labels\n",
        "\n",
        "\n",
        "x=29 #Just a random number for pick\n",
        "imshow(images[x])#pick the xth image\n",
        "print(classes_cifar[labels[x]])#write its label"
      ]
    },
    {
      "cell_type": "markdown",
      "metadata": {
        "id": "TwTVWZapFCgL"
      },
      "source": [
        "# **Summary Up To Now**\n",
        "I have loaded the CIFAR images into datasets, converted them into tensors, and normalized them. Then, I created data loaders to shuffle the data and divided it into batches, each containing 128 images. With my testing and training sets prepared, I also implemented a code snippet to display an image and its corresponding label from the training dataset.\n",
        "\n",
        "\n",
        "\n",
        "\n",
        "\n",
        "\n",
        "\n",
        "\n"
      ]
    },
    {
      "cell_type": "code",
      "execution_count": 14,
      "metadata": {
        "colab": {
          "base_uri": "https://localhost:8080/"
        },
        "id": "HtUlFx1gF22S",
        "outputId": "52cb0b46-81f3-4d8c-820f-62cf77d6d1ab"
      },
      "outputs": [
        {
          "name": "stdout",
          "output_type": "stream",
          "text": [
            "BEFORE [-1, 1] to [0, 1] TRANSFORMATION \n",
            " Min:  -0.827451\n",
            "Max:  0.99215686\n",
            "Avg:  -0.24712776\n",
            "AFTER [-1, 1] to [0, 1] TRANSFORMATION \n",
            " Min:   0.086274505\n",
            "Max:  0.99607843\n",
            "Avg:  0.37643614\n",
            "New shape of training image data:  (50000, 3072)\n",
            "New shape of label data:  (50000,)\n"
          ]
        }
      ],
      "source": [
        "# Arrays for flatened images\n",
        "X_train = []\n",
        "y_train = []\n",
        "X_test = []\n",
        "y_test = []\n",
        "\n",
        "for data in train_cifar_loader:\n",
        "    images, labels = data\n",
        "    X_train.extend(images.numpy())\n",
        "    y_train.extend(labels.numpy())\n",
        "\n",
        "for data in test_cifar_loader:\n",
        "    images, labels = data\n",
        "    X_test.extend(images.numpy())\n",
        "    y_test.extend(labels.numpy())\n",
        "\n",
        "#converting tensors to NParrays (vectors) due to KNN works with npArrays (vectors)\n",
        "X_train = np.array(X_train).reshape(len(X_train), -1)\n",
        "X_test = np.array(X_test).reshape(len(X_test), -1)\n",
        "y_train = np.array(y_train)\n",
        "y_test = np.array(y_test)\n",
        "\n",
        "print(\"BEFORE [-1, 1] to [0, 1] TRANSFORMATION \\n Min: \",X_train[0].min())\n",
        "print(\"Max: \", X_train[0].max())\n",
        "print(\"Avg: \", X_train[0].mean())\n",
        "# Convert pixel values from [-1, 1] to [0, 1]\n",
        "X_train = (np.array(X_train) + 1) / 2\n",
        "X_test = (np.array(X_test) + 1) / 2\n",
        "\n",
        "print(\"AFTER [-1, 1] to [0, 1] TRANSFORMATION \\n Min:  \",X_train[0].min())\n",
        "print(\"Max: \",X_train[0].max())\n",
        "print(\"Avg: \", X_train[0].mean())\n",
        "print(\"New shape of training image data: \", X_train.shape) #Hint 32*32*3 = 3072\n",
        "print(\"New shape of label data: \", y_train.shape)\n",
        "\n",
        "\n",
        "\n"
      ]
    },
    {
      "cell_type": "code",
      "execution_count": 15,
      "metadata": {
        "id": "0h2BSwRb9C_I"
      },
      "outputs": [
        {
          "name": "stderr",
          "output_type": "stream",
          "text": [
            "Processing k_values:  10%|█         | 1/10 [03:17<29:38, 197.57s/it]"
          ]
        },
        {
          "name": "stdout",
          "output_type": "stream",
          "text": [
            "\n",
            "K =  2  For test data, Accuracy:  0.30578 Standard Deviation:  0.006324365580831008\n"
          ]
        },
        {
          "name": "stderr",
          "output_type": "stream",
          "text": [
            "Processing k_values:  20%|██        | 2/10 [06:34<26:19, 197.42s/it]"
          ]
        },
        {
          "name": "stdout",
          "output_type": "stream",
          "text": [
            "\n",
            "K =  3  For test data, Accuracy:  0.32506 Standard Deviation:  0.0024532427519509867\n"
          ]
        },
        {
          "name": "stderr",
          "output_type": "stream",
          "text": [
            "Processing k_values:  30%|███       | 3/10 [09:46<22:42, 194.66s/it]"
          ]
        },
        {
          "name": "stdout",
          "output_type": "stream",
          "text": [
            "\n",
            "K =  5  For test data, Accuracy:  0.33278 Standard Deviation:  0.006256644468083509\n"
          ]
        },
        {
          "name": "stderr",
          "output_type": "stream",
          "text": [
            "Processing k_values:  40%|████      | 4/10 [13:01<19:30, 195.04s/it]"
          ]
        },
        {
          "name": "stdout",
          "output_type": "stream",
          "text": [
            "\n",
            "K =  7  For test data, Accuracy:  0.33333999999999997 Standard Deviation:  0.003059150208799827\n"
          ]
        },
        {
          "name": "stderr",
          "output_type": "stream",
          "text": [
            "Processing k_values:  50%|█████     | 5/10 [16:17<16:16, 195.36s/it]"
          ]
        },
        {
          "name": "stdout",
          "output_type": "stream",
          "text": [
            "\n",
            "K =  15  For test data, Accuracy:  0.33014 Standard Deviation:  0.0013807244475274613\n"
          ]
        },
        {
          "name": "stderr",
          "output_type": "stream",
          "text": [
            "Processing k_values:  60%|██████    | 6/10 [19:39<13:09, 197.41s/it]"
          ]
        },
        {
          "name": "stdout",
          "output_type": "stream",
          "text": [
            "\n",
            "K =  50  For test data, Accuracy:  0.31168 Standard Deviation:  0.004453493011109358\n"
          ]
        },
        {
          "name": "stderr",
          "output_type": "stream",
          "text": [
            "Processing k_values:  70%|███████   | 7/10 [22:57<09:52, 197.62s/it]"
          ]
        },
        {
          "name": "stdout",
          "output_type": "stream",
          "text": [
            "\n",
            "K =  100  For test data, Accuracy:  0.29608 Standard Deviation:  0.0023701476747240782\n"
          ]
        },
        {
          "name": "stderr",
          "output_type": "stream",
          "text": [
            "Processing k_values:  80%|████████  | 8/10 [26:15<06:35, 197.91s/it]"
          ]
        },
        {
          "name": "stdout",
          "output_type": "stream",
          "text": [
            "\n",
            "K =  200  For test data, Accuracy:  0.28268 Standard Deviation:  0.0022364257197590985\n"
          ]
        },
        {
          "name": "stderr",
          "output_type": "stream",
          "text": [
            "Processing k_values:  90%|█████████ | 9/10 [29:34<03:18, 198.18s/it]"
          ]
        },
        {
          "name": "stdout",
          "output_type": "stream",
          "text": [
            "\n",
            "K =  250  For test data, Accuracy:  0.27878 Standard Deviation:  0.0023421357774475867\n"
          ]
        },
        {
          "name": "stderr",
          "output_type": "stream",
          "text": [
            "Processing k_values: 100%|██████████| 10/10 [32:55<00:00, 197.60s/it]"
          ]
        },
        {
          "name": "stdout",
          "output_type": "stream",
          "text": [
            "\n",
            "K =  500  For test data, Accuracy:  0.26331999999999994 Standard Deviation:  0.001727888885316417\n",
            "Execution time:  1980.8525125980377 seconds\n"
          ]
        },
        {
          "name": "stderr",
          "output_type": "stream",
          "text": [
            "\n"
          ]
        }
      ],
      "source": [
        "#burada kaldım ve burada bir problem var\n",
        "start_time = time.time()\n",
        "\n",
        "# Apply feature scaling using StandardScaler\n",
        "scaler = StandardScaler()\n",
        "X_train_scaled = scaler.fit_transform(X_train)\n",
        "X_test_scaled = scaler.transform(X_test)\n",
        "\n",
        "\n",
        "#without scaling k=5 %33 success K=7 %33 K=15 %32\n",
        "\n",
        "# List of k values to try\n",
        "k_values = [2,3,5,7,15,50,100,200,250,500]\n",
        "\n",
        "# Lists to store mean accuracies and standard deviations for each k value\n",
        "mean_accuracies = []\n",
        "std_accuracies = []\n",
        "\n",
        "small_X_train = X_train[:2000]  # For optimization\n",
        "small_y_train = y_train[:2000]\n",
        "\n",
        "# Loop over different k values\n",
        "for k in tqdm(k_values, desc=\"Processing k_values\"):\n",
        "\n",
        "    knn_classifier = KNeighborsClassifier(n_neighbors=k, n_jobs=-1)\n",
        "\n",
        "    # Perform cross-validation\n",
        "    cross_val_scores = cross_val_score(knn_classifier, X_train_scaled, y_train, cv=5)\n",
        "\n",
        "    # Calculate mean accuracy and standard deviation of accuracy\n",
        "    mean_accuracy = cross_val_scores.mean()\n",
        "    std_accuracy = cross_val_scores.std()\n",
        "\n",
        "    mean_accuracies.append(mean_accuracy)\n",
        "    std_accuracies.append(std_accuracy)\n",
        "\n",
        "    print(\"\\nK = \", k ,\" For test data, Accuracy: \", mean_accuracy, \"Standard Deviation: \", std_accuracy)\n",
        "\n",
        "\n",
        "end_time = time.time()\n",
        "execution_time = end_time - start_time\n",
        "print(\"Execution time: \",execution_time,\"seconds\")"
      ]
    },
    {
      "cell_type": "code",
      "execution_count": 16,
      "metadata": {
        "colab": {
          "base_uri": "https://localhost:8080/",
          "height": 472
        },
        "id": "Vi7polYULJU3",
        "outputId": "551336aa-3cef-4bd1-8e23-903b1d3ee17d"
      },
      "outputs": [
        {
          "data": {
            "image/png": "[encoded data removed]",
            "text/plain": [
              "<Figure size 640x480 with 1 Axes>"
            ]
          },
          "metadata": {},
          "output_type": "display_data"
        }
      ],
      "source": [
        "# Plotting the results\n",
        "plt.errorbar(k_values, mean_accuracies, yerr=std_accuracies, marker='o', linestyle='-', color='b')\n",
        "plt.xlabel('K Values')\n",
        "plt.ylabel('Validation Accuracy')\n",
        "plt.title('KNN Classifier Performance')\n",
        "plt.xticks(k_values)\n",
        "plt.grid(True)\n",
        "plt.show()\n",
        "\n",
        "\n"
      ]
    },
    {
      "cell_type": "code",
      "execution_count": 17,
      "metadata": {
        "colab": {
          "base_uri": "https://localhost:8080/"
        },
        "id": "_HLcgdd_LUbV",
        "outputId": "76a97add-7343-4a84-911d-01e81e630a7a"
      },
      "outputs": [
        {
          "name": "stdout",
          "output_type": "stream",
          "text": [
            "Best k value: 7\n",
            "Accuracy of KNN on test data with best k value:  0.3388\n"
          ]
        }
      ],
      "source": [
        "# Finding the best k value\n",
        "best_k_index = mean_accuracies.index(max(mean_accuracies))\n",
        "best_k = k_values[best_k_index]\n",
        "\n",
        "print(f\"Best k value: {best_k}\")\n",
        "\n",
        "# Create the final KNN classifier with the best k value\n",
        "final_knn_classifier = KNeighborsClassifier(n_neighbors=best_k)\n",
        "\n",
        "# Perform 5-fold cross-validation on the entire training dataset\n",
        "cross_val_scores = cross_val_score(final_knn_classifier, X_train_scaled, y_train, cv=5)\n",
        "\n",
        "# Calculate mean accuracy and standard deviation of accuracy\n",
        "mean_accuracy = cross_val_scores.mean()\n",
        "std_accuracy = cross_val_scores.std()\n",
        "\n",
        "# Train the final model on the entire training dataset\n",
        "final_knn_classifier.fit(X_train_scaled, y_train)\n",
        "\n",
        "# Predict labels on test data\n",
        "y_pred = final_knn_classifier.predict(X_test_scaled)\n",
        "\n",
        "# Calculate accuracy\n",
        "accuracy = accuracy_score(y_test, y_pred)\n",
        "print(\"Accuracy of KNN on test data with best k value: \",accuracy)\n"
      ]
    },
    {
      "cell_type": "markdown",
      "metadata": {
        "id": "G-aBYY1aKbZ1"
      },
      "source": [
        "# **Resulting for KNN**\n"
      ]
    },
    {
      "cell_type": "markdown",
      "metadata": {
        "id": "Adk1kYcw-661"
      },
      "source": []
    },
    {
      "cell_type": "code",
      "execution_count": 18,
      "metadata": {
        "id": "I0CrWZnpaMi9"
      },
      "outputs": [
        {
          "name": "stderr",
          "output_type": "stream",
          "text": [
            "Testing C Values: 100%|██████████| 7/7 [08:58<00:00, 76.96s/it]\n"
          ]
        },
        {
          "data": {
            "image/png": "[encoded data removed]",
            "text/plain": [
              "<Figure size 640x480 with 1 Axes>"
            ]
          },
          "metadata": {},
          "output_type": "display_data"
        }
      ],
      "source": [
        "\n",
        "\n",
        "\n",
        "# Split the data into training and validation sets\n",
        "X_train, X_val, y_train, y_val = train_test_split(X_train, y_train, test_size=0.25, random_state=42)\n",
        "\n",
        "\n",
        "# Apply feature scaling using StandardScaler to X_train and X_val\n",
        "scaler = StandardScaler()\n",
        "X_train_scaled = scaler.fit_transform(X_train)\n",
        "X_val_scaled = scaler.transform(X_val)\n",
        "\n",
        "# List of C values to try\n",
        "C_values = [0.0001,0.001, 0.01, 0.1, 1, 10, 100]\n",
        "warnings.filterwarnings(\"ignore\", category=ConvergenceWarning)#to prevent unwanted warning\n",
        "\n",
        "# Lists to store accuracy scores for each C value\n",
        "accuracy_scores = []\n",
        "\n",
        "# Loop over different C values\n",
        "for C_value in tqdm(C_values, desc=\"Testing C Values\"):\n",
        "    # Create a Logistic Regression classifier with L2 regularization and the current C value\n",
        "    logreg_classifier = LogisticRegression(penalty='l2', C=C_value, max_iter=150, random_state=42)\n",
        "\n",
        "    # Train the classifier on the training data\n",
        "    logreg_classifier.fit(X_train_scaled, y_train)\n",
        "\n",
        "    # Predict labels on the validation data\n",
        "    y_pred = logreg_classifier.predict(X_val_scaled)\n",
        "\n",
        "    # Calculate accuracy\n",
        "    accuracy = accuracy_score(y_val, y_pred)\n",
        "    accuracy_scores.append(accuracy)\n",
        "\n",
        "# Plotting the results\n",
        "plt.plot(C_values, accuracy_scores, marker='o')\n",
        "plt.xscale('log')  # Use a logarithmic scale for C values\n",
        "plt.xlabel('C Values')\n",
        "plt.ylabel('Validation Accuracy')\n",
        "plt.title('Logistic Regression Regularization (L2) - Validation Accuracy')\n",
        "plt.grid(True)\n",
        "plt.show()"
      ]
    },
    {
      "cell_type": "code",
      "execution_count": 19,
      "metadata": {
        "id": "CSYKpd38dFRq"
      },
      "outputs": [
        {
          "name": "stdout",
          "output_type": "stream",
          "text": [
            "Accuracy of Logistic Regression on test data with best C value:  0.4092\n"
          ]
        }
      ],
      "source": [
        "# Find the index of the best C value\n",
        "best_c_index = np.argmax(accuracy_scores)\n",
        "best_c_value = C_values[best_c_index]\n",
        "\n",
        "# Train the classifier with the best C value on the entire training data\n",
        "best_logreg_classifier = LogisticRegression(penalty='l2', C=best_c_value, max_iter=150, random_state=42)\n",
        "best_logreg_classifier.fit(X_train_scaled, y_train)\n",
        "\n",
        "# Apply the same feature scaling to X_test\n",
        "X_test_scaled = scaler.transform(X_test)\n",
        "\n",
        "# Predict labels on the scaled test data\n",
        "y_test_pred = best_logreg_classifier.predict(X_test_scaled)\n",
        "\n",
        "\n",
        "# Calculate accuracy on test data\n",
        "test_accuracy = accuracy_score(y_test, y_test_pred)\n",
        "print(\"Accuracy of Logistic Regression on test data with best C value: \",test_accuracy)"
      ]
    },
    {
      "cell_type": "markdown",
      "metadata": {
        "id": "DA6aN9Xi-t9g"
      },
      "source": [
        "# Resulting for Regression"
      ]
    },
    {
      "cell_type": "markdown",
      "metadata": {
        "id": "kPamO0cg-5TY"
      },
      "source": []
    },
    {
      "cell_type": "code",
      "execution_count": null,
      "metadata": {
        "id": "RlP2Ym2N-4Dj"
      },
      "outputs": [],
      "source": []
    },
    {
      "cell_type": "code",
      "execution_count": 20,
      "metadata": {
        "id": "DnlLArBJ-8Dq"
      },
      "outputs": [],
      "source": [
        "\n",
        "# Define the CNN architecture\n",
        "class SimpleCNN(nn.Module):\n",
        "    def __init__(self):\n",
        "        super(SimpleCNN, self).__init__()\n",
        "        self.conv1 = nn.Conv2d(3, 16, kernel_size=3, padding=1)\n",
        "        self.pool = nn.MaxPool2d(2, 2)\n",
        "        self.fc1 = nn.Linear(16 * 16 * 16, 256)\n",
        "        self.fc2 = nn.Linear(256, 10)  # 10 classes in CIFAR-10\n",
        "\n",
        "    def forward(self, x):\n",
        "        x = self.pool(nn.functional.relu(self.conv1(x)))\n",
        "        x = x.view(-1, 16 * 16 * 16)\n",
        "        x = nn.functional.relu(self.fc1(x))\n",
        "        x = self.fc2(x)\n",
        "        return x\n",
        "\n"
      ]
    },
    {
      "cell_type": "markdown",
      "metadata": {
        "id": "mL1MWFoM_FL4"
      },
      "source": []
    },
    {
      "cell_type": "code",
      "execution_count": 23,
      "metadata": {
        "id": "UUB1o__W_F7m"
      },
      "outputs": [
        {
          "name": "stdout",
          "output_type": "stream",
          "text": [
            "Epoch 1, Batch 100, Loss: 1.7731, Accuracy: 36.01%\n",
            "Epoch 1, Batch 200, Loss: 1.4631, Accuracy: 47.26%\n",
            "Epoch 1, Batch 300, Loss: 1.3743, Accuracy: 50.68%\n",
            "Epoch 2, Batch 100, Loss: 1.2213, Accuracy: 56.78%\n",
            "Epoch 2, Batch 200, Loss: 1.1829, Accuracy: 58.05%\n",
            "Epoch 2, Batch 300, Loss: 1.1551, Accuracy: 58.84%\n",
            "Epoch 3, Batch 100, Loss: 1.0679, Accuracy: 62.72%\n",
            "Epoch 3, Batch 200, Loss: 1.0359, Accuracy: 63.06%\n",
            "Epoch 3, Batch 300, Loss: 1.0354, Accuracy: 63.79%\n",
            "Epoch 4, Batch 100, Loss: 0.9348, Accuracy: 67.30%\n",
            "Epoch 4, Batch 200, Loss: 0.9347, Accuracy: 67.63%\n",
            "Epoch 4, Batch 300, Loss: 0.9509, Accuracy: 66.84%\n",
            "Epoch 5, Batch 100, Loss: 0.8466, Accuracy: 70.40%\n",
            "Epoch 5, Batch 200, Loss: 0.8234, Accuracy: 71.38%\n",
            "Epoch 5, Batch 300, Loss: 0.8546, Accuracy: 69.77%\n",
            "Epoch 6, Batch 100, Loss: 0.7636, Accuracy: 73.16%\n",
            "Epoch 6, Batch 200, Loss: 0.7602, Accuracy: 73.66%\n",
            "Epoch 6, Batch 300, Loss: 0.7484, Accuracy: 74.05%\n",
            "Epoch 7, Batch 100, Loss: 0.6538, Accuracy: 77.48%\n",
            "Epoch 7, Batch 200, Loss: 0.6747, Accuracy: 76.51%\n",
            "Epoch 7, Batch 300, Loss: 0.6694, Accuracy: 76.71%\n",
            "Epoch 8, Batch 100, Loss: 0.5739, Accuracy: 80.37%\n",
            "Epoch 8, Batch 200, Loss: 0.6004, Accuracy: 78.93%\n",
            "Epoch 8, Batch 300, Loss: 0.6114, Accuracy: 78.87%\n",
            "Epoch 9, Batch 100, Loss: 0.4972, Accuracy: 83.35%\n",
            "Epoch 9, Batch 200, Loss: 0.5312, Accuracy: 81.87%\n",
            "Epoch 9, Batch 300, Loss: 0.5547, Accuracy: 80.74%\n",
            "Training Finished\n"
          ]
        }
      ],
      "source": [
        "# Initialize the CNN\n",
        "cnn = SimpleCNN()\n",
        "\n",
        "# Define loss function and optimizer\n",
        "criterion = nn.CrossEntropyLoss()\n",
        "optimizer = optim.Adam(cnn.parameters(), lr=0.01)#lr değeri hyperparameter\n",
        "\n",
        "# Load CIFAR-10 data using the data loaders\n",
        "train_cifar_loader = torch.utils.data.DataLoader(train_cifar_dataset, batch_size=128, shuffle=True)\n",
        "test_cifar_loader = torch.utils.data.DataLoader(test_cifar_dataset, batch_size=128, shuffle=False)\n",
        "\n",
        "# Train the CNN\n",
        "#50 epocs:%64.89 test acc\n",
        "n_epochs = 9\n",
        "\n",
        "for epoch in range(n_epochs):\n",
        "    running_loss = 0.0\n",
        "    correct_total = 0\n",
        "    total_samples = 0\n",
        "\n",
        "    for i, (inputs, labels) in enumerate(train_cifar_loader, 0):\n",
        "        optimizer.zero_grad()\n",
        "        outputs = cnn(inputs)\n",
        "        loss = criterion(outputs, labels)\n",
        "        loss.backward()\n",
        "        optimizer.step()\n",
        "\n",
        "        running_loss += loss.item()\n",
        "\n",
        "        _, predicted = torch.max(outputs.data, 1)\n",
        "        correct_total += (predicted == labels).sum().item()\n",
        "        total_samples += labels.size(0)\n",
        "\n",
        "        if i % 100 == 99:\n",
        "            avg_loss = running_loss / 100\n",
        "            accuracy = 100 * correct_total / total_samples\n",
        "            print(f\"Epoch {epoch+1}, Batch {i+1}, Loss: {avg_loss:.4f}, Accuracy: {accuracy:.2f}%\")\n",
        "            running_loss = 0.0\n",
        "            correct_total = 0\n",
        "            total_samples = 0\n",
        "\n",
        "print(\"Training Finished\")\n",
        "\n",
        "\n"
      ]
    },
    {
      "cell_type": "markdown",
      "metadata": {
        "id": "b7jUHQHn_QHz"
      },
      "source": []
    },
    {
      "cell_type": "code",
      "execution_count": 24,
      "metadata": {
        "id": "29J6SEjC_QQV"
      },
      "outputs": [
        {
          "name": "stdout",
          "output_type": "stream",
          "text": [
            "Accuracy on test data: 64.73%\n"
          ]
        }
      ],
      "source": [
        "# Evaluate the CNN on test data\n",
        "cnn.eval()\n",
        "correct = 0\n",
        "total = 0\n",
        "\n",
        "with torch.no_grad():\n",
        "    for inputs, labels in test_cifar_loader:\n",
        "        outputs = cnn(inputs)\n",
        "        _, predicted = torch.max(outputs.data, 1)\n",
        "        total += labels.size(0)\n",
        "        correct += (predicted == labels).sum().item()\n",
        "\n",
        "print(f\"Accuracy on test data: {100 * correct / total:.2f}%\")"
      ]
    },
    {
      "cell_type": "markdown",
      "metadata": {
        "id": "TYRH1gLD_WEX"
      },
      "source": []
    }
  ],
  "metadata": {
    "colab": {
      "provenance": []
    },
    "kernelspec": {
      "display_name": "Python 3",
      "name": "python3"
    },
    "language_info": {
      "codemirror_mode": {
        "name": "ipython",
        "version": 3
      },
      "file_extension": ".py",
      "mimetype": "text/x-python",
      "name": "python",
      "nbconvert_exporter": "python",
      "pygments_lexer": "ipython3",
      "version": "3.12.1"
    }
  },
  "nbformat": 4,
  "nbformat_minor": 0
}
